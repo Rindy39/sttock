{
  "cells": [
    {
      "cell_type": "markdown",
      "metadata": {
        "id": "-ltlHDFUsPC7"
      },
      "source": [
        "## Kmean Clustering Algorithm"
      ]
    },
    {
      "cell_type": "markdown",
      "metadata": {
        "id": "f1BqcckvsPDE"
      },
      "source": [
        "#### Importing libraries "
      ]
    },
    {
      "cell_type": "code",
      "execution_count": 1,
      "metadata": {
        "id": "VFpao6MnsPDF"
      },
      "outputs": [],
      "source": [
        "import pandas as pd\n",
        "import numpy as np\n",
        "import matplotlib.pyplot as plt\n",
        "from mpl_toolkits.mplot3d import Axes3D\n",
        "from sklearn import decomposition\n",
        "from sklearn import datasets\n",
        "import seaborn as sns\n",
        "from sklearn.decomposition import PCA\n",
        "from sklearn.cluster import KMeans\n",
        "%matplotlib inline"
      ]
    },
    {
      "cell_type": "code",
      "source": [
        "from google.colab import files\n",
        "uploade = files.upload()"
      ],
      "metadata": {
        "colab": {
          "resources": {
            "http://localhost:8080/nbextensions/google.colab/files.js": {
              "data": "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",
              "ok": true,
              "headers": [
                [
                  "content-type",
                  "application/javascript"
                ]
              ],
              "status": 200,
              "status_text": ""
            }
          },
          "base_uri": "https://localhost:8080/",
          "height": 73
        },
        "id": "ks3YPb2zvDCr",
        "outputId": "2498cac7-ac76-40de-da52-93b1c2b4b770"
      },
      "execution_count": 3,
      "outputs": [
        {
          "output_type": "display_data",
          "data": {
            "text/html": [
              "\n",
              "     <input type=\"file\" id=\"files-c24207fd-c757-40d6-ab39-31b949946483\" name=\"files[]\" multiple disabled\n",
              "        style=\"border:none\" />\n",
              "     <output id=\"result-c24207fd-c757-40d6-ab39-31b949946483\">\n",
              "      Upload widget is only available when the cell has been executed in the\n",
              "      current browser session. Please rerun this cell to enable.\n",
              "      </output>\n",
              "      <script src=\"/nbextensions/google.colab/files.js\"></script> "
            ],
            "text/plain": [
              "<IPython.core.display.HTML object>"
            ]
          },
          "metadata": {}
        },
        {
          "output_type": "stream",
          "name": "stdout",
          "text": [
            "Saving ^JKSE.csv to ^JKSE.csv\n"
          ]
        }
      ]
    },
    {
      "cell_type": "code",
      "execution_count": 10,
      "metadata": {
        "id": "_IxfMTdvsPDH",
        "colab": {
          "base_uri": "https://localhost:8080/",
          "height": 206
        },
        "outputId": "e7ffd369-07b8-4af7-f38f-e4f0c76e7402"
      },
      "outputs": [
        {
          "output_type": "execute_result",
          "data": {
            "text/html": [
              "<div>\n",
              "<style scoped>\n",
              "    .dataframe tbody tr th:only-of-type {\n",
              "        vertical-align: middle;\n",
              "    }\n",
              "\n",
              "    .dataframe tbody tr th {\n",
              "        vertical-align: top;\n",
              "    }\n",
              "\n",
              "    .dataframe thead th {\n",
              "        text-align: right;\n",
              "    }\n",
              "</style>\n",
              "<table border=\"1\" class=\"dataframe\">\n",
              "  <thead>\n",
              "    <tr style=\"text-align: right;\">\n",
              "      <th></th>\n",
              "      <th>Date</th>\n",
              "      <th>Open</th>\n",
              "      <th>High</th>\n",
              "      <th>Low</th>\n",
              "      <th>Close</th>\n",
              "      <th>Adj Close</th>\n",
              "      <th>Volume</th>\n",
              "    </tr>\n",
              "  </thead>\n",
              "  <tbody>\n",
              "    <tr>\n",
              "      <th>0</th>\n",
              "      <td>20160104</td>\n",
              "      <td>4580.165039</td>\n",
              "      <td>4603.824219</td>\n",
              "      <td>4525.918945</td>\n",
              "      <td>4525.918945</td>\n",
              "      <td>4525.918945</td>\n",
              "      <td>21276600.0</td>\n",
              "    </tr>\n",
              "    <tr>\n",
              "      <th>1</th>\n",
              "      <td>20160105</td>\n",
              "      <td>4527.431152</td>\n",
              "      <td>4594.340820</td>\n",
              "      <td>4527.003906</td>\n",
              "      <td>4557.821777</td>\n",
              "      <td>4557.821777</td>\n",
              "      <td>24364900.0</td>\n",
              "    </tr>\n",
              "    <tr>\n",
              "      <th>2</th>\n",
              "      <td>20160106</td>\n",
              "      <td>4563.653809</td>\n",
              "      <td>4639.236816</td>\n",
              "      <td>4562.573242</td>\n",
              "      <td>4608.981934</td>\n",
              "      <td>4608.981934</td>\n",
              "      <td>29976300.0</td>\n",
              "    </tr>\n",
              "    <tr>\n",
              "      <th>3</th>\n",
              "      <td>20160107</td>\n",
              "      <td>4573.692871</td>\n",
              "      <td>4577.636230</td>\n",
              "      <td>4530.448242</td>\n",
              "      <td>4530.448242</td>\n",
              "      <td>4530.448242</td>\n",
              "      <td>24018600.0</td>\n",
              "    </tr>\n",
              "    <tr>\n",
              "      <th>4</th>\n",
              "      <td>20160108</td>\n",
              "      <td>4524.862793</td>\n",
              "      <td>4550.907227</td>\n",
              "      <td>4507.414063</td>\n",
              "      <td>4546.288086</td>\n",
              "      <td>4546.288086</td>\n",
              "      <td>23991300.0</td>\n",
              "    </tr>\n",
              "  </tbody>\n",
              "</table>\n",
              "</div>"
            ],
            "text/plain": [
              "       Date         Open         High  ...        Close    Adj Close      Volume\n",
              "0  20160104  4580.165039  4603.824219  ...  4525.918945  4525.918945  21276600.0\n",
              "1  20160105  4527.431152  4594.340820  ...  4557.821777  4557.821777  24364900.0\n",
              "2  20160106  4563.653809  4639.236816  ...  4608.981934  4608.981934  29976300.0\n",
              "3  20160107  4573.692871  4577.636230  ...  4530.448242  4530.448242  24018600.0\n",
              "4  20160108  4524.862793  4550.907227  ...  4546.288086  4546.288086  23991300.0\n",
              "\n",
              "[5 rows x 7 columns]"
            ]
          },
          "metadata": {},
          "execution_count": 10
        }
      ],
      "source": [
        "df = pd.read_csv('^JKSE.csv')\n",
        "df.head()\n"
      ]
    },
    {
      "cell_type": "code",
      "source": [
        "df=df.iloc[:,1:6]\n",
        "df"
      ],
      "metadata": {
        "colab": {
          "base_uri": "https://localhost:8080/",
          "height": 424
        },
        "id": "0M1WufzpIej2",
        "outputId": "b478b307-916f-49e0-d357-97bd2a899d8f"
      },
      "execution_count": 11,
      "outputs": [
        {
          "output_type": "execute_result",
          "data": {
            "text/html": [
              "<div>\n",
              "<style scoped>\n",
              "    .dataframe tbody tr th:only-of-type {\n",
              "        vertical-align: middle;\n",
              "    }\n",
              "\n",
              "    .dataframe tbody tr th {\n",
              "        vertical-align: top;\n",
              "    }\n",
              "\n",
              "    .dataframe thead th {\n",
              "        text-align: right;\n",
              "    }\n",
              "</style>\n",
              "<table border=\"1\" class=\"dataframe\">\n",
              "  <thead>\n",
              "    <tr style=\"text-align: right;\">\n",
              "      <th></th>\n",
              "      <th>Open</th>\n",
              "      <th>High</th>\n",
              "      <th>Low</th>\n",
              "      <th>Close</th>\n",
              "      <th>Adj Close</th>\n",
              "    </tr>\n",
              "  </thead>\n",
              "  <tbody>\n",
              "    <tr>\n",
              "      <th>0</th>\n",
              "      <td>4580.165039</td>\n",
              "      <td>4603.824219</td>\n",
              "      <td>4525.918945</td>\n",
              "      <td>4525.918945</td>\n",
              "      <td>4525.918945</td>\n",
              "    </tr>\n",
              "    <tr>\n",
              "      <th>1</th>\n",
              "      <td>4527.431152</td>\n",
              "      <td>4594.340820</td>\n",
              "      <td>4527.003906</td>\n",
              "      <td>4557.821777</td>\n",
              "      <td>4557.821777</td>\n",
              "    </tr>\n",
              "    <tr>\n",
              "      <th>2</th>\n",
              "      <td>4563.653809</td>\n",
              "      <td>4639.236816</td>\n",
              "      <td>4562.573242</td>\n",
              "      <td>4608.981934</td>\n",
              "      <td>4608.981934</td>\n",
              "    </tr>\n",
              "    <tr>\n",
              "      <th>3</th>\n",
              "      <td>4573.692871</td>\n",
              "      <td>4577.636230</td>\n",
              "      <td>4530.448242</td>\n",
              "      <td>4530.448242</td>\n",
              "      <td>4530.448242</td>\n",
              "    </tr>\n",
              "    <tr>\n",
              "      <th>4</th>\n",
              "      <td>4524.862793</td>\n",
              "      <td>4550.907227</td>\n",
              "      <td>4507.414063</td>\n",
              "      <td>4546.288086</td>\n",
              "      <td>4546.288086</td>\n",
              "    </tr>\n",
              "    <tr>\n",
              "      <th>...</th>\n",
              "      <td>...</td>\n",
              "      <td>...</td>\n",
              "      <td>...</td>\n",
              "      <td>...</td>\n",
              "      <td>...</td>\n",
              "    </tr>\n",
              "    <tr>\n",
              "      <th>1480</th>\n",
              "      <td>6716.157227</td>\n",
              "      <td>6732.897949</td>\n",
              "      <td>6662.538086</td>\n",
              "      <td>6677.875977</td>\n",
              "      <td>6677.875977</td>\n",
              "    </tr>\n",
              "    <tr>\n",
              "      <th>1481</th>\n",
              "      <td>6697.423828</td>\n",
              "      <td>6698.414063</td>\n",
              "      <td>6668.054199</td>\n",
              "      <td>6683.276855</td>\n",
              "      <td>6683.276855</td>\n",
              "    </tr>\n",
              "    <tr>\n",
              "      <th>1482</th>\n",
              "      <td>6694.957031</td>\n",
              "      <td>6751.001953</td>\n",
              "      <td>6694.796875</td>\n",
              "      <td>6699.346191</td>\n",
              "      <td>6699.346191</td>\n",
              "    </tr>\n",
              "    <tr>\n",
              "      <th>1483</th>\n",
              "      <td>6688.568848</td>\n",
              "      <td>6691.711914</td>\n",
              "      <td>6544.895996</td>\n",
              "      <td>6561.553223</td>\n",
              "      <td>6561.553223</td>\n",
              "    </tr>\n",
              "    <tr>\n",
              "      <th>1484</th>\n",
              "      <td>6552.803223</td>\n",
              "      <td>6617.287109</td>\n",
              "      <td>6487.748047</td>\n",
              "      <td>6608.290039</td>\n",
              "      <td>6608.290039</td>\n",
              "    </tr>\n",
              "  </tbody>\n",
              "</table>\n",
              "<p>1485 rows × 5 columns</p>\n",
              "</div>"
            ],
            "text/plain": [
              "             Open         High          Low        Close    Adj Close\n",
              "0     4580.165039  4603.824219  4525.918945  4525.918945  4525.918945\n",
              "1     4527.431152  4594.340820  4527.003906  4557.821777  4557.821777\n",
              "2     4563.653809  4639.236816  4562.573242  4608.981934  4608.981934\n",
              "3     4573.692871  4577.636230  4530.448242  4530.448242  4530.448242\n",
              "4     4524.862793  4550.907227  4507.414063  4546.288086  4546.288086\n",
              "...           ...          ...          ...          ...          ...\n",
              "1480  6716.157227  6732.897949  6662.538086  6677.875977  6677.875977\n",
              "1481  6697.423828  6698.414063  6668.054199  6683.276855  6683.276855\n",
              "1482  6694.957031  6751.001953  6694.796875  6699.346191  6699.346191\n",
              "1483  6688.568848  6691.711914  6544.895996  6561.553223  6561.553223\n",
              "1484  6552.803223  6617.287109  6487.748047  6608.290039  6608.290039\n",
              "\n",
              "[1485 rows x 5 columns]"
            ]
          },
          "metadata": {},
          "execution_count": 11
        }
      ]
    },
    {
      "cell_type": "code",
      "execution_count": 12,
      "metadata": {
        "colab": {
          "base_uri": "https://localhost:8080/"
        },
        "id": "MW1n_I-MsPDK",
        "outputId": "f1ab9074-c6d8-4d2c-eb81-9d8b5d606f8a"
      },
      "outputs": [
        {
          "output_type": "execute_result",
          "data": {
            "text/plain": [
              "(1485, 5)"
            ]
          },
          "metadata": {},
          "execution_count": 12
        }
      ],
      "source": [
        "df.shape"
      ]
    },
    {
      "cell_type": "code",
      "source": [
        "df.info()"
      ],
      "metadata": {
        "colab": {
          "base_uri": "https://localhost:8080/"
        },
        "id": "3obCqj8EyjU7",
        "outputId": "a31d5329-5a5a-4dcd-891a-934da466c21c"
      },
      "execution_count": 13,
      "outputs": [
        {
          "output_type": "stream",
          "name": "stdout",
          "text": [
            "<class 'pandas.core.frame.DataFrame'>\n",
            "RangeIndex: 1485 entries, 0 to 1484\n",
            "Data columns (total 5 columns):\n",
            " #   Column     Non-Null Count  Dtype  \n",
            "---  ------     --------------  -----  \n",
            " 0   Open       1436 non-null   float64\n",
            " 1   High       1436 non-null   float64\n",
            " 2   Low        1436 non-null   float64\n",
            " 3   Close      1436 non-null   float64\n",
            " 4   Adj Close  1436 non-null   float64\n",
            "dtypes: float64(5)\n",
            "memory usage: 58.1 KB\n"
          ]
        }
      ]
    },
    {
      "cell_type": "code",
      "source": [
        "df.isnull().sum()"
      ],
      "metadata": {
        "colab": {
          "base_uri": "https://localhost:8080/"
        },
        "id": "fuJQWFKy6_lF",
        "outputId": "fa642a9e-fd5a-41bc-b06a-3b454ffc1c52"
      },
      "execution_count": 14,
      "outputs": [
        {
          "output_type": "execute_result",
          "data": {
            "text/plain": [
              "Open         49\n",
              "High         49\n",
              "Low          49\n",
              "Close        49\n",
              "Adj Close    49\n",
              "dtype: int64"
            ]
          },
          "metadata": {},
          "execution_count": 14
        }
      ]
    },
    {
      "cell_type": "code",
      "source": [
        "df= df.dropna()\n",
        "df"
      ],
      "metadata": {
        "colab": {
          "base_uri": "https://localhost:8080/",
          "height": 424
        },
        "id": "DPke5em1Kmmc",
        "outputId": "dc041fab-0d5d-4d5c-81e2-f7f522b05068"
      },
      "execution_count": 15,
      "outputs": [
        {
          "output_type": "execute_result",
          "data": {
            "text/html": [
              "<div>\n",
              "<style scoped>\n",
              "    .dataframe tbody tr th:only-of-type {\n",
              "        vertical-align: middle;\n",
              "    }\n",
              "\n",
              "    .dataframe tbody tr th {\n",
              "        vertical-align: top;\n",
              "    }\n",
              "\n",
              "    .dataframe thead th {\n",
              "        text-align: right;\n",
              "    }\n",
              "</style>\n",
              "<table border=\"1\" class=\"dataframe\">\n",
              "  <thead>\n",
              "    <tr style=\"text-align: right;\">\n",
              "      <th></th>\n",
              "      <th>Open</th>\n",
              "      <th>High</th>\n",
              "      <th>Low</th>\n",
              "      <th>Close</th>\n",
              "      <th>Adj Close</th>\n",
              "    </tr>\n",
              "  </thead>\n",
              "  <tbody>\n",
              "    <tr>\n",
              "      <th>0</th>\n",
              "      <td>4580.165039</td>\n",
              "      <td>4603.824219</td>\n",
              "      <td>4525.918945</td>\n",
              "      <td>4525.918945</td>\n",
              "      <td>4525.918945</td>\n",
              "    </tr>\n",
              "    <tr>\n",
              "      <th>1</th>\n",
              "      <td>4527.431152</td>\n",
              "      <td>4594.340820</td>\n",
              "      <td>4527.003906</td>\n",
              "      <td>4557.821777</td>\n",
              "      <td>4557.821777</td>\n",
              "    </tr>\n",
              "    <tr>\n",
              "      <th>2</th>\n",
              "      <td>4563.653809</td>\n",
              "      <td>4639.236816</td>\n",
              "      <td>4562.573242</td>\n",
              "      <td>4608.981934</td>\n",
              "      <td>4608.981934</td>\n",
              "    </tr>\n",
              "    <tr>\n",
              "      <th>3</th>\n",
              "      <td>4573.692871</td>\n",
              "      <td>4577.636230</td>\n",
              "      <td>4530.448242</td>\n",
              "      <td>4530.448242</td>\n",
              "      <td>4530.448242</td>\n",
              "    </tr>\n",
              "    <tr>\n",
              "      <th>4</th>\n",
              "      <td>4524.862793</td>\n",
              "      <td>4550.907227</td>\n",
              "      <td>4507.414063</td>\n",
              "      <td>4546.288086</td>\n",
              "      <td>4546.288086</td>\n",
              "    </tr>\n",
              "    <tr>\n",
              "      <th>...</th>\n",
              "      <td>...</td>\n",
              "      <td>...</td>\n",
              "      <td>...</td>\n",
              "      <td>...</td>\n",
              "      <td>...</td>\n",
              "    </tr>\n",
              "    <tr>\n",
              "      <th>1480</th>\n",
              "      <td>6716.157227</td>\n",
              "      <td>6732.897949</td>\n",
              "      <td>6662.538086</td>\n",
              "      <td>6677.875977</td>\n",
              "      <td>6677.875977</td>\n",
              "    </tr>\n",
              "    <tr>\n",
              "      <th>1481</th>\n",
              "      <td>6697.423828</td>\n",
              "      <td>6698.414063</td>\n",
              "      <td>6668.054199</td>\n",
              "      <td>6683.276855</td>\n",
              "      <td>6683.276855</td>\n",
              "    </tr>\n",
              "    <tr>\n",
              "      <th>1482</th>\n",
              "      <td>6694.957031</td>\n",
              "      <td>6751.001953</td>\n",
              "      <td>6694.796875</td>\n",
              "      <td>6699.346191</td>\n",
              "      <td>6699.346191</td>\n",
              "    </tr>\n",
              "    <tr>\n",
              "      <th>1483</th>\n",
              "      <td>6688.568848</td>\n",
              "      <td>6691.711914</td>\n",
              "      <td>6544.895996</td>\n",
              "      <td>6561.553223</td>\n",
              "      <td>6561.553223</td>\n",
              "    </tr>\n",
              "    <tr>\n",
              "      <th>1484</th>\n",
              "      <td>6552.803223</td>\n",
              "      <td>6617.287109</td>\n",
              "      <td>6487.748047</td>\n",
              "      <td>6608.290039</td>\n",
              "      <td>6608.290039</td>\n",
              "    </tr>\n",
              "  </tbody>\n",
              "</table>\n",
              "<p>1436 rows × 5 columns</p>\n",
              "</div>"
            ],
            "text/plain": [
              "             Open         High          Low        Close    Adj Close\n",
              "0     4580.165039  4603.824219  4525.918945  4525.918945  4525.918945\n",
              "1     4527.431152  4594.340820  4527.003906  4557.821777  4557.821777\n",
              "2     4563.653809  4639.236816  4562.573242  4608.981934  4608.981934\n",
              "3     4573.692871  4577.636230  4530.448242  4530.448242  4530.448242\n",
              "4     4524.862793  4550.907227  4507.414063  4546.288086  4546.288086\n",
              "...           ...          ...          ...          ...          ...\n",
              "1480  6716.157227  6732.897949  6662.538086  6677.875977  6677.875977\n",
              "1481  6697.423828  6698.414063  6668.054199  6683.276855  6683.276855\n",
              "1482  6694.957031  6751.001953  6694.796875  6699.346191  6699.346191\n",
              "1483  6688.568848  6691.711914  6544.895996  6561.553223  6561.553223\n",
              "1484  6552.803223  6617.287109  6487.748047  6608.290039  6608.290039\n",
              "\n",
              "[1436 rows x 5 columns]"
            ]
          },
          "metadata": {},
          "execution_count": 15
        }
      ]
    },
    {
      "cell_type": "code",
      "execution_count": 16,
      "metadata": {
        "id": "zZafKXS4sPDL"
      },
      "outputs": [],
      "source": [
        "from sklearn.preprocessing import StandardScaler\n",
        "features = df.values\n",
        "sc = StandardScaler()\n",
        "X_scaled = sc.fit_transform(features)"
      ]
    },
    {
      "cell_type": "code",
      "execution_count": 17,
      "metadata": {
        "id": "tl4QkYwesPDM",
        "outputId": "7f3a9a2f-2d36-4bb2-ea90-e8ffe98f1ea0",
        "colab": {
          "base_uri": "https://localhost:8080/"
        }
      },
      "outputs": [
        {
          "output_type": "execute_result",
          "data": {
            "text/plain": [
              "(1436, 5)"
            ]
          },
          "metadata": {},
          "execution_count": 17
        }
      ],
      "source": [
        "X_scaled.shape"
      ]
    },
    {
      "cell_type": "markdown",
      "metadata": {
        "id": "wWPDpluusPDO"
      },
      "source": [
        "Determining optimal number of components for PCA looking at the explained variance as a function of the components"
      ]
    },
    {
      "cell_type": "code",
      "execution_count": 18,
      "metadata": {
        "id": "YyLsI7EasPDQ",
        "outputId": "1fdfcdf1-1ad5-4e56-d8ed-fbbc525ef7df",
        "colab": {
          "base_uri": "https://localhost:8080/",
          "height": 279
        }
      },
      "outputs": [
        {
          "output_type": "display_data",
          "data": {
            "image/png": "[encoded data removed]",
            "text/plain": [
              "<Figure size 432x288 with 1 Axes>"
            ]
          },
          "metadata": {}
        }
      ],
      "source": [
        "sns.set_style('whitegrid')\n",
        "pca = PCA().fit(X_scaled)\n",
        "plt.plot(np.cumsum(pca.explained_variance_ratio_))\n",
        "plt.xlabel('number of components')\n",
        "plt.ylabel('cumulative explained variance')\n",
        "plt.show()"
      ]
    },
    {
      "cell_type": "markdown",
      "metadata": {
        "id": "lV-_PAa7sPDR"
      },
      "source": [
        "Here we see that we'd need about 100 components to retain 100% of the variance. Looking at this plot for a high-dimensional dataset can help us understand the level of redundancy present in multiple observations"
      ]
    },
    {
      "cell_type": "markdown",
      "metadata": {
        "id": "LWXrhAHVsPDS"
      },
      "source": [
        "#### Apply PCA to reduce the number of dimensions from 502 to 2 dimensions for better data visualization."
      ]
    },
    {
      "cell_type": "code",
      "execution_count": 19,
      "metadata": {
        "id": "PJfZ50XosPDT",
        "outputId": "28c3e63b-d221-40cf-d4c7-38a0ad749bbb",
        "colab": {
          "base_uri": "https://localhost:8080/"
        }
      },
      "outputs": [
        {
          "output_type": "stream",
          "name": "stdout",
          "text": [
            "explained variance :\n",
            "--------------------------------------------------------------------\n",
            "[4.99547967 0.00521289]\n",
            "--------------------------------------------------------------------\n",
            "PCA Components : \n",
            "--------------------------------------------------------------------\n",
            "[[-0.44696835 -0.4472663  -0.44723988 -0.44729668 -0.44729668]\n",
            " [-0.70066121 -0.23844193 -0.01228988  0.47543048  0.47543048]]\n",
            "--------------------------------------------------------------------\n",
            "Transformed Feature values first five rows :\n",
            "--------------------------------------------------------------------\n",
            "[[ 4.67585799 -0.08787308]\n",
            " [ 4.67359796  0.03249832]\n",
            " [ 4.50383031  0.05368333]\n",
            " [ 4.6906986  -0.06180305]\n",
            " [ 4.74239644  0.03500643]]\n",
            "--------------------------------------------------------------------\n",
            "Transformed Feature shape :\n",
            "--------------------------------------------------------------------\n",
            "(1436, 2)\n",
            "--------------------------------------------------------------------\n",
            "Original Feature shape :\n",
            "--------------------------------------------------------------------\n",
            "(1436, 5)\n",
            "--------------------------------------------------------------------\n",
            "Restransformed Feature shape :\n",
            "--------------------------------------------------------------------\n",
            "(1436, 5)\n",
            "--------------------------------------------------------------------\n",
            "Retransformed Feature values first five rows :\n",
            "--------------------------------------------------------------------\n",
            "[[-2.02839129 -2.07040108 -2.0901502  -2.1332733  -2.1332733 ]\n",
            " [-2.1117207  -2.09809183 -2.09061877 -2.07503416 -2.07503416]\n",
            " [-2.05068344 -2.02721188 -2.01495227 -1.98902566 -1.98902566]\n",
            " [-2.05329083 -2.08325498 -2.09710791 -2.12751697 -2.12751697]\n",
            " [-2.14422878 -2.12946112 -2.12141902 -2.10461506 -2.10461506]]\n",
            "--------------------------------------------------------------------\n"
          ]
        }
      ],
      "source": [
        "pca = PCA(n_components=2)\n",
        "pca.fit(X_scaled)\n",
        "print('explained variance :')\n",
        "print('--------------------------------------------------------------------')\n",
        "print(pca.explained_variance_)\n",
        "print('--------------------------------------------------------------------')\n",
        "print('PCA Components : ')\n",
        "print('--------------------------------------------------------------------')\n",
        "print(pca.components_)\n",
        "print('--------------------------------------------------------------------')\n",
        "X_transformed = pca.transform(X_scaled)\n",
        "print('Transformed Feature values first five rows :')\n",
        "print('--------------------------------------------------------------------')\n",
        "print(X_transformed[:5,:])\n",
        "print('--------------------------------------------------------------------')\n",
        "print('Transformed Feature shape :')\n",
        "print('--------------------------------------------------------------------')\n",
        "print(X_transformed.shape)\n",
        "print('--------------------------------------------------------------------')\n",
        "print('Original Feature shape :')\n",
        "print('--------------------------------------------------------------------')\n",
        "print(X_scaled.shape)\n",
        "print('--------------------------------------------------------------------')\n",
        "print('Restransformed Feature shape :')\n",
        "print('--------------------------------------------------------------------')\n",
        "X_retransformed = pca.inverse_transform(X_transformed)\n",
        "print(X_retransformed.shape)\n",
        "print('--------------------------------------------------------------------')\n",
        "print('Retransformed Feature values first five rows :')\n",
        "print('--------------------------------------------------------------------')\n",
        "print(X_retransformed[:5,:])\n",
        "print('--------------------------------------------------------------------')"
      ]
    },
    {
      "cell_type": "markdown",
      "metadata": {
        "id": "6xKe54uxsPDV"
      },
      "source": [
        "#### Problem 1:¶\n",
        " There are various stocks for which we have collected a data set, which all stocks are apparently similar in performance\n",
        "\n",
        "#### Finding optimum number of clusters for KMEANS cluster"
      ]
    },
    {
      "cell_type": "code",
      "execution_count": 20,
      "metadata": {
        "id": "_Jh07NXksPDW",
        "outputId": "c350e3ae-6d8d-401c-951c-5030454b71f6",
        "colab": {
          "base_uri": "https://localhost:8080/"
        }
      },
      "outputs": [
        {
          "output_type": "execute_result",
          "data": {
            "text/plain": [
              "(1436, 2)"
            ]
          },
          "metadata": {},
          "execution_count": 20
        }
      ],
      "source": [
        "X_transformed.shape"
      ]
    },
    {
      "cell_type": "code",
      "execution_count": 21,
      "metadata": {
        "id": "zc7etnXKsPDW",
        "outputId": "569b4850-881c-4523-f0ee-75b2a6bd3832",
        "colab": {
          "base_uri": "https://localhost:8080/"
        }
      },
      "outputs": [
        {
          "output_type": "stream",
          "name": "stdout",
          "text": [
            "Collecting scikit-plot\n",
            "  Downloading scikit_plot-0.3.7-py3-none-any.whl (33 kB)\n",
            "Requirement already satisfied: scikit-learn>=0.18 in /usr/local/lib/python3.7/dist-packages (from scikit-plot) (1.0.1)\n",
            "Requirement already satisfied: matplotlib>=1.4.0 in /usr/local/lib/python3.7/dist-packages (from scikit-plot) (3.2.2)\n",
            "Requirement already satisfied: scipy>=0.9 in /usr/local/lib/python3.7/dist-packages (from scikit-plot) (1.4.1)\n",
            "Requirement already satisfied: joblib>=0.10 in /usr/local/lib/python3.7/dist-packages (from scikit-plot) (1.1.0)\n",
            "Requirement already satisfied: python-dateutil>=2.1 in /usr/local/lib/python3.7/dist-packages (from matplotlib>=1.4.0->scikit-plot) (2.8.2)\n",
            "Requirement already satisfied: cycler>=0.10 in /usr/local/lib/python3.7/dist-packages (from matplotlib>=1.4.0->scikit-plot) (0.11.0)\n",
            "Requirement already satisfied: pyparsing!=2.0.4,!=2.1.2,!=2.1.6,>=2.0.1 in /usr/local/lib/python3.7/dist-packages (from matplotlib>=1.4.0->scikit-plot) (3.0.6)\n",
            "Requirement already satisfied: kiwisolver>=1.0.1 in /usr/local/lib/python3.7/dist-packages (from matplotlib>=1.4.0->scikit-plot) (1.3.2)\n",
            "Requirement already satisfied: numpy>=1.11 in /usr/local/lib/python3.7/dist-packages (from matplotlib>=1.4.0->scikit-plot) (1.19.5)\n",
            "Requirement already satisfied: six>=1.5 in /usr/local/lib/python3.7/dist-packages (from python-dateutil>=2.1->matplotlib>=1.4.0->scikit-plot) (1.15.0)\n",
            "Requirement already satisfied: threadpoolctl>=2.0.0 in /usr/local/lib/python3.7/dist-packages (from scikit-learn>=0.18->scikit-plot) (3.0.0)\n",
            "Installing collected packages: scikit-plot\n",
            "Successfully installed scikit-plot-0.3.7\n"
          ]
        }
      ],
      "source": [
        "!pip install scikit-plot"
      ]
    },
    {
      "cell_type": "markdown",
      "metadata": {
        "id": "xg1DbnKLsPDX"
      },
      "source": [
        "#### Elbow method "
      ]
    },
    {
      "cell_type": "code",
      "execution_count": 22,
      "metadata": {
        "id": "elQ2kiZxsPDX",
        "outputId": "49fe76f8-c9fa-460c-b369-df261d6d1e2b",
        "colab": {
          "base_uri": "https://localhost:8080/",
          "height": 312
        }
      },
      "outputs": [
        {
          "output_type": "execute_result",
          "data": {
            "text/plain": [
              "<matplotlib.axes._subplots.AxesSubplot at 0x7f1913f7cb90>"
            ]
          },
          "metadata": {},
          "execution_count": 22
        },
        {
          "output_type": "display_data",
          "data": {
            "image/png": "[encoded data removed]",
            "text/plain": [
              "<Figure size 432x288 with 2 Axes>"
            ]
          },
          "metadata": {}
        }
      ],
      "source": [
        "import scikitplot\n",
        "scikitplot.cluster.plot_elbow_curve(KMeans(),X_transformed,cluster_ranges=range(1,20))"
      ]
    },
    {
      "cell_type": "markdown",
      "metadata": {
        "id": "5f63n7E5sPDY"
      },
      "source": [
        "Optimum number of cluster from the elbow method is determined to be 5\n",
        "\n",
        "#### Applying K-Means Clustering to find stocks which are similar in performance"
      ]
    },
    {
      "cell_type": "code",
      "execution_count": 23,
      "metadata": {
        "id": "FJvwsg6EsPDY",
        "outputId": "5187d1b4-c8c2-4307-9c3e-f8dde1bcc723",
        "colab": {
          "base_uri": "https://localhost:8080/",
          "height": 424
        }
      },
      "outputs": [
        {
          "output_type": "execute_result",
          "data": {
            "text/html": [
              "<div>\n",
              "<style scoped>\n",
              "    .dataframe tbody tr th:only-of-type {\n",
              "        vertical-align: middle;\n",
              "    }\n",
              "\n",
              "    .dataframe tbody tr th {\n",
              "        vertical-align: top;\n",
              "    }\n",
              "\n",
              "    .dataframe thead th {\n",
              "        text-align: right;\n",
              "    }\n",
              "</style>\n",
              "<table border=\"1\" class=\"dataframe\">\n",
              "  <thead>\n",
              "    <tr style=\"text-align: right;\">\n",
              "      <th></th>\n",
              "      <th>Open</th>\n",
              "      <th>Close</th>\n",
              "    </tr>\n",
              "  </thead>\n",
              "  <tbody>\n",
              "    <tr>\n",
              "      <th>0</th>\n",
              "      <td>4.675858</td>\n",
              "      <td>-0.087873</td>\n",
              "    </tr>\n",
              "    <tr>\n",
              "      <th>1</th>\n",
              "      <td>4.673598</td>\n",
              "      <td>0.032498</td>\n",
              "    </tr>\n",
              "    <tr>\n",
              "      <th>2</th>\n",
              "      <td>4.503830</td>\n",
              "      <td>0.053683</td>\n",
              "    </tr>\n",
              "    <tr>\n",
              "      <th>3</th>\n",
              "      <td>4.690699</td>\n",
              "      <td>-0.061803</td>\n",
              "    </tr>\n",
              "    <tr>\n",
              "      <th>4</th>\n",
              "      <td>4.742396</td>\n",
              "      <td>0.035006</td>\n",
              "    </tr>\n",
              "    <tr>\n",
              "      <th>...</th>\n",
              "      <td>...</td>\n",
              "      <td>...</td>\n",
              "    </tr>\n",
              "    <tr>\n",
              "      <th>1431</th>\n",
              "      <td>-3.619673</td>\n",
              "      <td>-0.051333</td>\n",
              "    </tr>\n",
              "    <tr>\n",
              "      <th>1432</th>\n",
              "      <td>-3.591027</td>\n",
              "      <td>-0.005564</td>\n",
              "    </tr>\n",
              "    <tr>\n",
              "      <th>1433</th>\n",
              "      <td>-3.675622</td>\n",
              "      <td>0.001557</td>\n",
              "    </tr>\n",
              "    <tr>\n",
              "      <th>1434</th>\n",
              "      <td>-3.294939</td>\n",
              "      <td>-0.190268</td>\n",
              "    </tr>\n",
              "    <tr>\n",
              "      <th>1435</th>\n",
              "      <td>-3.160625</td>\n",
              "      <td>0.083244</td>\n",
              "    </tr>\n",
              "  </tbody>\n",
              "</table>\n",
              "<p>1436 rows × 2 columns</p>\n",
              "</div>"
            ],
            "text/plain": [
              "          Open     Close\n",
              "0     4.675858 -0.087873\n",
              "1     4.673598  0.032498\n",
              "2     4.503830  0.053683\n",
              "3     4.690699 -0.061803\n",
              "4     4.742396  0.035006\n",
              "...        ...       ...\n",
              "1431 -3.619673 -0.051333\n",
              "1432 -3.591027 -0.005564\n",
              "1433 -3.675622  0.001557\n",
              "1434 -3.294939 -0.190268\n",
              "1435 -3.160625  0.083244\n",
              "\n",
              "[1436 rows x 2 columns]"
            ]
          },
          "metadata": {},
          "execution_count": 23
        }
      ],
      "source": [
        "X_train = pd.DataFrame(X_transformed)\n",
        "X_train.rename(columns = {0:\"Open\", 1:\"Close\"})"
      ]
    },
    {
      "cell_type": "markdown",
      "metadata": {
        "id": "PKkRbXqfsPDZ"
      },
      "source": [
        "#### Kmean Algorithm"
      ]
    },
    {
      "cell_type": "code",
      "execution_count": 24,
      "metadata": {
        "id": "pHIrykxBsPDa"
      },
      "outputs": [],
      "source": [
        "k_means = KMeans(n_clusters=5,random_state=0,init='k-means++')\n",
        "k_means.fit(X_train)\n",
        "y_kmeans = k_means.fit_predict(X_train)\n",
        "labels = k_means.labels_"
      ]
    },
    {
      "cell_type": "code",
      "execution_count": 25,
      "metadata": {
        "id": "QSEDvi9msPDa",
        "outputId": "a7b30ceb-e277-4688-c7d8-b1e337091ef3",
        "colab": {
          "base_uri": "https://localhost:8080/"
        }
      },
      "outputs": [
        {
          "output_type": "execute_result",
          "data": {
            "text/plain": [
              "(1436, (1436, 2))"
            ]
          },
          "metadata": {},
          "execution_count": 25
        }
      ],
      "source": [
        "len(labels), X_train.shape"
      ]
    },
    {
      "cell_type": "code",
      "execution_count": 28,
      "metadata": {
        "id": "cnIFhjp2sPDb",
        "outputId": "53d88b70-5f69-4662-c78d-249ae28cf09e",
        "colab": {
          "base_uri": "https://localhost:8080/",
          "height": 295
        }
      },
      "outputs": [
        {
          "output_type": "display_data",
          "data": {
            "image/png": "[encoded data removed]",
            "text/plain": [
              "<Figure size 432x288 with 1 Axes>"
            ]
          },
          "metadata": {}
        }
      ],
      "source": [
        "plt.scatter(X_transformed[y_kmeans == 0, 0], X_transformed[y_kmeans == 0, 1], s = 30, c = 'red', label = 'Cluster 4')\n",
        "plt.scatter(X_transformed[y_kmeans == 1, 0], X_transformed[y_kmeans == 1, 1], s = 30, c = 'blue', label = 'Cluster 1')\n",
        "plt.scatter(X_transformed[y_kmeans == 2, 0], X_transformed[y_kmeans == 2, 1], s = 30, c = 'green', label = 'Cluster 2')\n",
        "plt.scatter(X_transformed[y_kmeans == 3, 0], X_transformed[y_kmeans == 3, 1], s = 30, c = 'cyan', label = 'Cluster 5')\n",
        "plt.scatter(X_transformed[y_kmeans == 4, 0], X_transformed[y_kmeans == 4, 1], s = 30, c = 'magenta', label = 'Cluster 3')\n",
        "plt.scatter(k_means.cluster_centers_[:, 0], k_means.cluster_centers_[:, 1], s = 50, c = 'yellow', label = 'Centroids')\n",
        "plt.title('Clusters of stocks')\n",
        "plt.xlabel('Principal Component (1)')\n",
        "plt.ylabel('Principal Component (2)')\n",
        "plt.legend()\n",
        "plt.show()"
      ]
    },
    {
      "cell_type": "markdown",
      "metadata": {
        "id": "bASLUuEVsPDc"
      },
      "source": [
        "The above 5 clusters shows the stocks which are similar in stock performance"
      ]
    },
    {
      "cell_type": "code",
      "execution_count": 29,
      "metadata": {
        "id": "AX97NCxtsPDc"
      },
      "outputs": [],
      "source": [
        "import pickle\n",
        "\n",
        "filename = 'final_model_Kmean_clustring.pkl'\n",
        "pickle.dump(k_means, open(filename, 'wb'))"
      ]
    },
    {
      "cell_type": "code",
      "execution_count": null,
      "metadata": {
        "id": "0h7SWG6msPDd"
      },
      "outputs": [],
      "source": [
        ""
      ]
    }
  ],
  "metadata": {
    "kernelspec": {
      "display_name": "Python 3",
      "language": "python",
      "name": "python3"
    },
    "language_info": {
      "codemirror_mode": {
        "name": "ipython",
        "version": 3
      },
      "file_extension": ".py",
      "mimetype": "text/x-python",
      "name": "python",
      "nbconvert_exporter": "python",
      "pygments_lexer": "ipython3",
      "version": "3.6.10"
    },
    "colab": {
      "name": "Kita_Clustering_model.ipynb",
      "provenance": []
    }
  },
  "nbformat": 4,
  "nbformat_minor": 0
}